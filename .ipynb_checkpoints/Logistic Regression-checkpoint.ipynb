{
 "cells": [
  {
   "cell_type": "code",
   "execution_count": 1,
   "id": "767cf2e2",
   "metadata": {},
   "outputs": [
    {
     "data": {
      "text/plain": [
       "(0.4,\n",
       " 0.0,\n",
       " 0.0,\n",
       " array([[2, 0],\n",
       "        [3, 0]], dtype=int64))"
      ]
     },
     "execution_count": 1,
     "metadata": {},
     "output_type": "execute_result"
    }
   ],
   "source": [
    "import pandas as pd\n",
    "from sklearn.model_selection import train_test_split\n",
    "from sklearn.linear_model import LogisticRegression\n",
    "from sklearn.metrics import accuracy_score, precision_score, recall_score, confusion_matrix\n",
    "\n",
    "nflx_data = pd.read_csv(\"Download Data - STOCK_US_XNAS_NFLX.csv\")\n",
    "\n",
    "# Create Binary Target Variable\n",
    "# Shift the 'Close' price down to compare with the next day's price\n",
    "nflx_data['Next_Close'] = nflx_data['Close'].shift(-1)\n",
    "nflx_data['Price_Increase'] = (nflx_data['Next_Close'] > nflx_data['Close']).astype(int)\n",
    "\n",
    "# Drop the last row as it will have NaN for 'Next_Close' after shifting\n",
    "nflx_data.dropna(inplace=True)\n",
    "\n",
    "nflx_data['Volume'] = nflx_data['Volume'].str.replace(',', '').astype(float)\n",
    "\n",
    "# Selecting features and target variable for logistic regression\n",
    "X = nflx_data[['Open', 'High', 'Low', 'Volume', 'Close']]  # Including 'Close' as a feature\n",
    "y = nflx_data['Price_Increase']\n",
    "\n",
    "# Splitting the data into training and testing sets\n",
    "X_train, X_test, y_train, y_test = train_test_split(X, y, test_size=0.2, random_state=0)\n",
    "\n",
    "# Model Training\n",
    "logistic_model = LogisticRegression()\n",
    "logistic_model.fit(X_train, y_train)\n",
    "\n",
    "# Predicting on the test set\n",
    "y_pred = logistic_model.predict(X_test)\n",
    "\n",
    "# Model Evaluation\n",
    "\n",
    "# the ratio of correctly predicted instances (both true positives and true negatives) to the total number of instances.\n",
    "accuracy = accuracy_score(y_test, y_pred)\n",
    "\n",
    "#ratio of true positive predictions to the total number of positive predictions (true positives and false positives).\n",
    "precision = precision_score(y_test, y_pred, zero_division=0)\n",
    "\n",
    "#the ratio of true positive predictions to the total number of actual positive instances (true positives and false negatives).\n",
    "recall = recall_score(y_test, y_pred)\n",
    "\n",
    "conf_matrix = confusion_matrix(y_test, y_pred)\n",
    "\n",
    "accuracy, precision, recall, conf_matrix"
   ]
  },
  {
   "cell_type": "code",
   "execution_count": null,
   "id": "fa71952b",
   "metadata": {},
   "outputs": [],
   "source": []
  }
 ],
 "metadata": {
  "kernelspec": {
   "display_name": "Python 3 (ipykernel)",
   "language": "python",
   "name": "python3"
  },
  "language_info": {
   "codemirror_mode": {
    "name": "ipython",
    "version": 3
   },
   "file_extension": ".py",
   "mimetype": "text/x-python",
   "name": "python",
   "nbconvert_exporter": "python",
   "pygments_lexer": "ipython3",
   "version": "3.11.4"
  }
 },
 "nbformat": 4,
 "nbformat_minor": 5
}
