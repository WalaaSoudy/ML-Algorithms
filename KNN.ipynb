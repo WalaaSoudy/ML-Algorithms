{
 "cells": [
  {
   "cell_type": "code",
   "execution_count": 2,
   "id": "cdda9c36",
   "metadata": {},
   "outputs": [
    {
     "data": {
      "text/plain": [
       "(7.588636800000098, 0.9320755365492807)"
      ]
     },
     "execution_count": 2,
     "metadata": {},
     "output_type": "execute_result"
    }
   ],
   "source": [
    "import pandas as pd\n",
    "from sklearn.model_selection import train_test_split\n",
    "from sklearn.neighbors import KNeighborsRegressor\n",
    "from sklearn.preprocessing import StandardScaler\n",
    "from sklearn.metrics import mean_squared_error, r2_score\n",
    "\n",
    "nflx_data = pd.read_csv(\"Download Data - STOCK_US_XNAS_NFLX.csv\")\n",
    "\n",
    "# Shift the 'Close' price down to compare with the next day's price\n",
    "nflx_data['Next_Close'] = nflx_data['Close'].shift(-1)\n",
    "# Drop the last row as it will have NaN for 'Next_Close' after shifting\n",
    "nflx_data.dropna(inplace=True)\n",
    "\n",
    "nflx_data['Volume'] = nflx_data['Volume'].str.replace(',', '').astype(float)\n",
    "\n",
    "# Feature Selection\n",
    "X = nflx_data[['Open', 'High', 'Low', 'Volume']]\n",
    "y = nflx_data['Next_Close']  # Target variable is the next day's closing price\n",
    "\n",
    "# Splitting the data into training and testing sets\n",
    "X_train, X_test, y_train, y_test = train_test_split(X, y, test_size=0.2, random_state=0)\n",
    "\n",
    "# Data Preprocessing: Feature Scaling\n",
    "scaler = StandardScaler()\n",
    "X_train_scaled = scaler.fit_transform(X_train)\n",
    "X_test_scaled = scaler.transform(X_test)\n",
    "\n",
    "# Model Training: KNN Regressor\n",
    "knn_regressor = KNeighborsRegressor()\n",
    "knn_regressor.fit(X_train_scaled, y_train)\n",
    "\n",
    "# Predicting on the test set\n",
    "y_pred_knn = knn_regressor.predict(X_test_scaled)\n",
    "\n",
    "# Model Evaluation\n",
    "mse_knn = mean_squared_error(y_test, y_pred_knn)\n",
    "r2_knn = r2_score(y_test, y_pred_knn)\n",
    "\n",
    "mse_knn, r2_knn"
   ]
  },
  {
   "cell_type": "code",
   "execution_count": null,
   "id": "909b6285",
   "metadata": {},
   "outputs": [],
   "source": []
  }
 ],
 "metadata": {
  "kernelspec": {
   "display_name": "Python 3 (ipykernel)",
   "language": "python",
   "name": "python3"
  },
  "language_info": {
   "codemirror_mode": {
    "name": "ipython",
    "version": 3
   },
   "file_extension": ".py",
   "mimetype": "text/x-python",
   "name": "python",
   "nbconvert_exporter": "python",
   "pygments_lexer": "ipython3",
   "version": "3.11.4"
  }
 },
 "nbformat": 4,
 "nbformat_minor": 5
}
