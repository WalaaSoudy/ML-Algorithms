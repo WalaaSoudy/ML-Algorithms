{
 "cells": [
  {
   "cell_type": "code",
   "execution_count": 70,
   "id": "1af78bd6",
   "metadata": {},
   "outputs": [
    {
     "data": {
      "text/plain": [
       "(0.6,\n",
       " 1.0,\n",
       " 0.3333333333333333,\n",
       " array([[2, 0],\n",
       "        [2, 1]], dtype=int64))"
      ]
     },
     "execution_count": 70,
     "metadata": {},
     "output_type": "execute_result"
    }
   ],
   "source": [
    "import pandas as pd\n",
    "from sklearn.model_selection import train_test_split\n",
    "from sklearn.linear_model import LogisticRegression\n",
    "from sklearn.metrics import accuracy_score, precision_score, recall_score, confusion_matrix\n",
    "from sklearn.naive_bayes import GaussianNB\n",
    "nflx_data = pd.read_csv(\"Download Data - STOCK_US_XNAS_NFLX.csv\")\n",
    "# Create Binary Target Variable\n",
    "median_close = nflx_data['Close'].median()\n",
    "nflx_data['Above_Median'] = (nflx_data['Close'] > median_close).astype(int)\n",
    "nflx_data['Volume'] = nflx_data['Volume'].str.replace(',', '').astype(float)\n",
    "# Selecting features and target variable for Naive Bayes\n",
    "X = nflx_data[['Open', 'Volume']]  # Using 'Open' and 'Volume' as features\n",
    "y = nflx_data['Above_Median']\n",
    "\n",
    "# Splitting the data into training and testing sets\n",
    "X_train, X_test, y_train, y_test = train_test_split(X, y, test_size=0.2, random_state=0)\n",
    "\n",
    "# Model Training\n",
    "nb_model = GaussianNB()\n",
    "nb_model.fit(X_train, y_train)\n",
    "\n",
    "# Predicting on the test set\n",
    "y_pred = nb_model.predict(X_test)\n",
    "\n",
    "# Model Evaluation\n",
    "accuracy_nb = accuracy_score(y_test, y_pred)\n",
    "precision_nb = precision_score(y_test, y_pred, zero_division=0)\n",
    "recall_nb = recall_score(y_test, y_pred)\n",
    "conf_matrix_nb = confusion_matrix(y_test, y_pred)\n",
    "\n",
    "accuracy_nb, precision_nb, recall_nb, conf_matrix_nb\n",
    "\n"
   ]
  },
  {
   "cell_type": "code",
   "execution_count": null,
   "id": "429ba253",
   "metadata": {},
   "outputs": [],
   "source": []
  }
 ],
 "metadata": {
  "kernelspec": {
   "display_name": "Python 3 (ipykernel)",
   "language": "python",
   "name": "python3"
  },
  "language_info": {
   "codemirror_mode": {
    "name": "ipython",
    "version": 3
   },
   "file_extension": ".py",
   "mimetype": "text/x-python",
   "name": "python",
   "nbconvert_exporter": "python",
   "pygments_lexer": "ipython3",
   "version": "3.11.4"
  }
 },
 "nbformat": 4,
 "nbformat_minor": 5
}
