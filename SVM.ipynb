{
 "cells": [
  {
   "cell_type": "code",
   "execution_count": 73,
   "id": "106bcaad",
   "metadata": {},
   "outputs": [
    {
     "data": {
      "text/plain": [
       "((31.74847448291876, 0.06464047109153226),\n",
       " (0.2, 0.0, 0.0, array([[1, 0],\n",
       "         [4, 0]], dtype=int64)))"
      ]
     },
     "execution_count": 73,
     "metadata": {},
     "output_type": "execute_result"
    }
   ],
   "source": [
    "import pandas as pd\n",
    "from sklearn.model_selection import train_test_split\n",
    "from sklearn.linear_model import LogisticRegression\n",
    "from sklearn.metrics import accuracy_score, precision_score, recall_score, confusion_matrix\n",
    "from sklearn.svm import SVR, SVC\n",
    "from sklearn.metrics import mean_squared_error, r2_score, accuracy_score, precision_score, recall_score, confusion_matrix\n",
    "nflx_data = pd.read_csv(\"Download Data - STOCK_US_XNAS_NFLX.csv\")\n",
    "nflx_data['Volume'] = nflx_data['Volume'].str.replace(',', '').astype(float)\n",
    "# Create Binary Target Variable\n",
    "# Shift the 'Close' price down to compare with the next day's price\n",
    "nflx_data['Next_Close'] = nflx_data['Close'].shift(-1)\n",
    "nflx_data['Price_Increase'] = (nflx_data['Next_Close'] > nflx_data['Close']).astype(int)\n",
    "# Task 1: SVM for Regression (SVR)\n",
    "# Preprocessing\n",
    "X = nflx_data[['Open', 'High', 'Low', 'Volume']]\n",
    "y_reg = nflx_data['Close']\n",
    "X_train_reg, X_test_reg, y_train_reg, y_test_reg = train_test_split(X, y_reg, test_size=0.2, random_state=0)\n",
    "scaler_reg = StandardScaler()\n",
    "X_train_reg_scaled = scaler_reg.fit_transform(X_train_reg)\n",
    "X_test_reg_scaled = scaler_reg.transform(X_test_reg)\n",
    "\n",
    "# Model Training: SVR\n",
    "svr_model = SVR()\n",
    "svr_model.fit(X_train_reg_scaled, y_train_reg)\n",
    "\n",
    "# Predicting on the test set\n",
    "y_pred_svr = svr_model.predict(X_test_reg_scaled)\n",
    "\n",
    "# Model Evaluation: SVR\n",
    "mse_svr = mean_squared_error(y_test_reg, y_pred_svr)\n",
    "r2_svr = r2_score(y_test_reg, y_pred_svr)\n",
    "\n",
    "# Task 2: SVM for Classification\n",
    "# Preprocessing\n",
    "y_class = nflx_data['Price_Increase']\n",
    "X_train_class, X_test_class, y_train_class, y_test_class = train_test_split(X, y_class, test_size=0.2, random_state=0)\n",
    "scaler_class = StandardScaler()\n",
    "X_train_class_scaled = scaler_class.fit_transform(X_train_class)\n",
    "X_test_class_scaled = scaler_class.transform(X_test_class)\n",
    "\n",
    "# Model Training: SVM Classifier\n",
    "svm_classifier = SVC()\n",
    "svm_classifier.fit(X_train_class_scaled, y_train_class)\n",
    "\n",
    "# Predicting on the test set\n",
    "y_pred_svm_class = svm_classifier.predict(X_test_class_scaled)\n",
    "\n",
    "# Model Evaluation: SVM Classifier\n",
    "accuracy_svm = accuracy_score(y_test_class, y_pred_svm_class)\n",
    "precision_svm = precision_score(y_test_class, y_pred_svm_class, zero_division=0)\n",
    "recall_svm = recall_score(y_test_class, y_pred_svm_class)\n",
    "conf_matrix_svm = confusion_matrix(y_test_class, y_pred_svm_class)\n",
    "\n",
    "(mse_svr, r2_svr), (accuracy_svm, precision_svm, recall_svm, conf_matrix_svm)\n"
   ]
  },
  {
   "cell_type": "code",
   "execution_count": null,
   "id": "3dc404e8",
   "metadata": {},
   "outputs": [],
   "source": []
  }
 ],
 "metadata": {
  "kernelspec": {
   "display_name": "Python 3 (ipykernel)",
   "language": "python",
   "name": "python3"
  },
  "language_info": {
   "codemirror_mode": {
    "name": "ipython",
    "version": 3
   },
   "file_extension": ".py",
   "mimetype": "text/x-python",
   "name": "python",
   "nbconvert_exporter": "python",
   "pygments_lexer": "ipython3",
   "version": "3.11.4"
  }
 },
 "nbformat": 4,
 "nbformat_minor": 5
}
