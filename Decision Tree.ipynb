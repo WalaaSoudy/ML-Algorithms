{
 "cells": [
  {
   "cell_type": "code",
   "execution_count": 76,
   "id": "bff90395",
   "metadata": {},
   "outputs": [
    {
     "data": {
      "text/plain": [
       "(0.8,\n",
       " 1.0,\n",
       " 0.75,\n",
       " array([[1, 0],\n",
       "        [1, 3]], dtype=int64))"
      ]
     },
     "execution_count": 76,
     "metadata": {},
     "output_type": "execute_result"
    }
   ],
   "source": [
    "import pandas as pd\n",
    "from sklearn.model_selection import train_test_split\n",
    "from sklearn.linear_model import LogisticRegression\n",
    "from sklearn.metrics import accuracy_score, precision_score, recall_score, confusion_matrix\n",
    "from sklearn.tree import DecisionTreeClassifier\n",
    "nflx_data = pd.read_csv(\"Download Data - STOCK_US_XNAS_NFLX.csv\")\n",
    "nflx_data['Volume'] = nflx_data['Volume'].str.replace(',', '').astype(float)\n",
    "# Create Binary Target Variable\n",
    "median_volume = nflx_data['Volume'].median()\n",
    "nflx_data['High_Volume'] = (nflx_data['Volume'] > median_volume).astype(int)\n",
    "\n",
    "# Feature Selection\n",
    "X = nflx_data[['Open', 'Close', 'High', 'Low']]\n",
    "y = nflx_data['High_Volume']\n",
    "\n",
    "# Splitting the data into training and testing sets\n",
    "X_train, X_test, y_train, y_test = train_test_split(X, y, test_size=0.2, random_state=0)\n",
    "\n",
    "# Model Training: Decision Tree Classifier\n",
    "dt_classifier = DecisionTreeClassifier(criterion='entropy')\n",
    "dt_classifier.fit(X_train, y_train)\n",
    "\n",
    "# Predicting on the test set\n",
    "y_pred_dt = dt_classifier.predict(X_test)\n",
    "\n",
    "# Model Evaluation\n",
    "accuracy_dt = accuracy_score(y_test, y_pred_dt)\n",
    "precision_dt = precision_score(y_test, y_pred_dt, zero_division=0)\n",
    "recall_dt = recall_score(y_test, y_pred_dt)\n",
    "conf_matrix_dt = confusion_matrix(y_test, y_pred_dt)\n",
    "\n",
    "accuracy_dt, precision_dt, recall_dt, conf_matrix_dt\n",
    "\n"
   ]
  },
  {
   "cell_type": "code",
   "execution_count": null,
   "id": "da476ae3",
   "metadata": {},
   "outputs": [],
   "source": []
  }
 ],
 "metadata": {
  "kernelspec": {
   "display_name": "Python 3 (ipykernel)",
   "language": "python",
   "name": "python3"
  },
  "language_info": {
   "codemirror_mode": {
    "name": "ipython",
    "version": 3
   },
   "file_extension": ".py",
   "mimetype": "text/x-python",
   "name": "python",
   "nbconvert_exporter": "python",
   "pygments_lexer": "ipython3",
   "version": "3.11.4"
  }
 },
 "nbformat": 4,
 "nbformat_minor": 5
}
